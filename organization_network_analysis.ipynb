{
 "cells": [
  {
   "cell_type": "markdown",
   "id": "dbd10fee",
   "metadata": {},
   "source": [
    "# Campus Organization Network Analysis\n",
    "\n",
    "This notebook visualizes the connections between different campus organizations at Wellesley based on shared membership. The organizations analyzed include:\n",
    "- **WZLY** (campus radio station)\n",
    "- **Whiptails** (ultimate frisbee team)  \n",
    "- **HKSA** (Hong Kong Student Association)\n",
    "- **Glass Garage** (maker space)\n",
    "- **Data Science 27** (academic group)\n",
    "\n",
    "The network graph shows how these organizations are connected through members who participate in multiple groups."
   ]
  },
  {
   "cell_type": "code",
   "execution_count": 12,
   "id": "900355ed",
   "metadata": {},
   "outputs": [],
   "source": [
    "# Organization membership data\n",
    "wzly_list = [\"Aanika Dutt\", \"Abagail Bertig\", \"Abigail Patrick-Dooling\", \"Addison Craig\", \"Adriana Castillo\", \"Agnes Qian\", \"Ahona Mukherjee\", \"Aileen Du\", \"Aileen Liang\", \"Aissata Barry\", \"Alesya Dewland\", \"Alexandra McCarthy\", \"Ali Kyrouz\", \"Allison Humphries\", \"Amara Jafar\", \"Amaya Knox\", \"Amber Lees\", \"Amelia Karr\", \"Amie Tian\", \"Ana Rubin\", \"Ana Sofia Almeida Zamora\", \"Anna Kraebber\", \"Anna Nesbitt\", \"Anna Westwig\", \"Anna Zhou\", \"Annalisa Hagg\", \"Annette Chun\", \"Arlene Franco\", \"Ashley Chen\", \"Avery Miller-Fabregas\", \"Bailey Moore\", \"Beatrice Erickson\", \"Bella Perreira\", \"Brenda Zhang\", \"Brielle Collins\", \"Bronwen Bailey\", \"Carlotta Abascal\", \"Carme Sanz-Munoz\", \"Caroline Hester\", \"Celine Yung\", \"Chanjal Daiju\", \"Charlotte Adams\", \"Cheynie Singleton\", \"Chloe Weingarten\", \"Cristina Marquez-Pereda\", \"Daphne Hwang\", \"Deeksha Gupta\", \"Delilah Hammarlund\", \"Diana Borrison\", \"Dolores Cavers\", \"Doreen Dai\", \"Dorothy Peters\", \"Dylan Bunyak\", \"Ela Peterson\", \"Eleanor Cowell\", \"Eleanor Harris\", \"Eleanor Hemenway\", \"Elena Attard\", \"Eliana Smith\", \"Eliza White\", \"Elizabeth Bradbury\", \"Elizabeth Murno\", \"Elizabeth Sid\", \"Ella Knight\", \"Elle Scheffel\", \"Emma Sullivan\", \"Eva McNally\", \"Finn Kingsbury\", \"Frances Bibby\", \"Francheska Kovacevic\", \"Gabriel Bazan\", \"Genaiya Stephens\", \"Genevieve Mellott\", \"Georgia O'Gallagher\", \"Ginnie Peery\", \"Grace Knuth\", \"Grace Rigsby\", \"Hailie Anguiano\", \"Hala Habahbeh\", \"Hanna Kurdziel\", \"Hannah Albrecht\", \"Hannah Chiou\", \"Hannah Lim\", \"Hannah McMillan\", \"Harrison Raines Seeley\", \"Idana Wilson\", \"Imani Oseso\", \"Ines Cuero\", \"Iris Zhan\", \"Isabel Orozco Piedrahíta\", \"Isabela Sanchez Taipe\", \"Isabella Kim-LaTona\", \"Isabella Vazquez\", \"Jackleen Guo\", \"Jalynn Brooks-Perkins\", \"Jami Johnson\", \"Jennifer Doyle\", \"Jessica Keegan\", \"Jillian Sutton\", \"Julia Collins\", \"Julia Kuang\", \"Julia Reste\", \"Julie Zeng\", \"Julien Barriere\", \"Juno Appel\", \"Karrington Wilson\", \"Katherine Bruderman\", \"Kaurvaki Bajpai\", \"Kayla Angeli Luga\", \"Keku Wheelock\", \"Kennedy Black\", \"Kristal Maimo\", \"Kyunghyun Lee\", \"Laila Brustin\", \"Lara Kurtz\", \"Lauren Burgin\", \"Lauren Le Beau\", \"Lauren Lee\", \"Lilla Powers\", \"Lillian Games\", \"Lillian Goins\", \"Linh Dinh\", \"Linnea Finegold\", \"Loreley Godfrey\", \"Lucas O'Kelley\", \"Lucia Urreta\", \"Lucinée Teager\", \"Lyanne Wang\", \"Madeleine Hansen\", \"Madeline J\", \"Magdalena Manrique\", \"Mallika Sunder\", \"Mara Severts\", \"Maria Cristina Garcia\", \"Marielle Randall\", \"Marty Martinage\", \"Mary McDade\", \"Marysabel Morales\", \"Maya Blumenthal\", \"Maya Dijkstra\", \"Maya Escobosa\", \"Maya Landweber\", \"Megan Ries\", \"Meghana Lakkireddy\", \"Meleny Salgado\", \"Mia Scherer\", \"Michelle Li\", \"Mila Rosenthal-Vincenti\", \"Millie Auslender\", \"Molly Weber\", \"Natalie Thomas\", \"Natthida Haddawy\", \"Nico Jo\", \"Nicole Zhu\", \"Nivale Baxendell\", \"Norah Catlin\", \"Olivia Duda\", \"Olivia Edstrom\", \"Ozy Odocha\", \"Penelope Johnson\", \"Precious Kim\", \"Rebecca Birnbach\", \"Reyliana Griffin\", \"Reyna Winter\", \"Ria Lowenschuss\", \"Rory Lawless\", \"Ruth Jin\", \"Sabrina Miller\", \"Sabrina Owens\", \"Samantha Vasquez\", \"Samara Mellis\", \"Savannah Duclo\", \"Scout Painter\", \"Sophia Lewis\", \"Sophia Nachmanoff\", \"Sophia Petito\", \"Sophia Wu\", \"Sophie Belfance Colford\", \"Srila Prathivadhi-Bhayankaram\", \"Sruthi Bharath Kumar\", \"Stella Chiari\", \"Stephanie Aiddoo\", \"Stephanie Barcenas\", \"Sumin Heo\", \"Swelihle Tembe\", \"Tenzin Karma\", \"Valentina Costa\", \"Wamda Elzubair\", \"Yeonsoo Ham\", \"Zeina Nassif\", \"Zoey Yan\"]\n",
    "\n",
    "frisbee_list = [\"Addelyne Lilley\", \"Alice Kauffman\", \"Alisa Zamora\", \"Alison Kenny\", \"Alison Schieber\", \"Alma Erro\", \"Amanda Roberts\", \"Anika Dhulipala\", \"Anna Nesbitt\", \"Anna Osias\", \"Annika Wolberg\", \"Ashley Chen\", \"Austen Boodell\", \"Belle See\", \"Carolista Walsh\", \"Cassidy Weddle\", \"Catherine Foster\", \"Catherine Macauley\", \"Ella Hoffman\", \"Ella McHugh\", \"Ella Stanley\", \"Elysia Nitsch\", \"EmmaChaya Lipton-Praver\", \"Erin Fina\", \"Erynn Lau\", \"Finn Kingsbury\", \"Grace Knuth\", \"Iliana Flohr\", \"Isabella Kim-LaTona\", \"Jimena Padilla\", \"June Wolbach\", \"Karen Alice Bate\", \"Kasey Cole\", \"Katharine Kanner-Bitetti\", \"Katherine Jacques\", \"Katherine Law\", \"Katherine Rosenorn\", \"Kaya Perce\", \"Krishangi Dandapure\", \"Larissa de Brito Moreira\", \"Lauren Wu\", \"Leah Esser\", \"Leah Kirschner\", \"Lee Vtorov\", \"Leila Silva\", \"Lily Smith\", \"Lyanne Wang\", \"Magdalena Johnson\", \"Maple Bottinelli\", \"Margot Buehler\", \"Morgan Young\", \"Nora Chase-Tatko\", \"Owen Romberg\", \"Phoebe Calero\", \"Rebecca Friedman\", \"Ruth Frederick\", \"Ruth Mondesir\", \"Sara-Noelle Perrin\", \"Sascha Fleesler\", \"Shuyu Xiong\", \"Simone-Soleil Blanquera\", \"Solveig Unteroberdoerster\", \"Sophie McIntosh\", \"Sylva Das\", \"Sylvie Shaya\", \"Tess Porter\", \"Vijayalakshmi Magavi\"]\n",
    "\n",
    "hksa = [\"Joyce Choi\", \"Joyce Yang\", \"Julie He\", \"Julie Zeng\", \"Juliette Noren\", \"Kailyn Lau\", \"Katherine Law\", \"Kathleen Morales\", \"Katie Cheung\", \"Kayla Angeli Luga\", \"Kelley Lin\", \"Keming Zhou\", \"Khyatee Atolia\", \"Lauren Kim\", \"Lauren Lee\", \"Leah Esser\", \"Leslie Carino\", \"Lewen Zhao\", \"Lucena Villasenor\", \"Mackenzie Gibson\", \"Madelyn Yow\", \"Malia Sladewski\", \"Malika Top\", \"Manya Anandi\", \"Margaret Huai\", \"Marysabel Morales\", \"Megan Ho\", \"Megan Rodriguez-Hawkins\", \"Michelle Qin\", \"Michelle Si Ting Yeo\", \"Milena Zhu\", \"Moji Niyamanusorn\", \"Morgan Wu\", \"Mucheng An\", \"Naomi Wang\", \"Naomi Weisner\", \"Natalie Ho\", \"Natalie Ng\", \"Natalie Pil\", \"Nic\", \"Nicole Lu\", \"Nina Bourne\", \"Paige Gee\", \"Peirong Li\", \"Phoenix Chen\", \"Pranathi Chintalapudi\", \"QiQi Li\", \"Qingrong Yang\", \"Quiana Guo\", \"Rachael Suh\", \"Rachel Lee\", \"Reena Kim\", \"Reika Ishibe\", \"Ruoxi Gao\", \"Sabine Luk\", \"Sage Gilbert-Diamond\", \"Samantha Valdez\", \"Samantha Yim\", \"Sarah Babitz\", \"Seojean Kim\", \"Shainoor Showrin\", \"Shakiba Daqiq\", \"Shawfong Hsu\", \"Sherry Sze\", \"Sneha Sriram\", \"Sofia Gonzalez\", \"Sooahn Lee\", \"Sophia Espaldon\", \"Sophia Lee\", \"Sophia Nachmanoff\", \"Sophia Xin\", \"Suzanne Xu\", \"Takami Harano\", \"Tenzin Yangchen\", \"Tiffany Lin\", \"Tong-Tong Ye\", \"Trisha Srivastava\", \"Ursula Junker\", \"Valerie Zhu\", \"Valida Pau\", \"Vanessa Chen\", \"Vivian Huang\", \"Xiaoran Li\", \"Yat Mei Suen\", \"Yen Phua\", \"Yijia Zhang\", \"Yijie Sun\", \"Yingyao Yu\", \"Yiqiu Zhou\", \"Yixi Gao\", \"Yucan Yang\", \"Yunseo Jo\", \"Zijing Zhao\", \"Zimo Chen\"]\n",
    "\n",
    "glass_garage = [\"Aaliyah Pierce\", \"Abby Berk\", \"Abigail Chen\", \"Abigail Duffy\", \"Adeline Vachon\", \"Advika Madhusudan\", \"Aileen Du\", \"Aileen Liang\", \"Alana Chung\", \"Ali Kyrouz\", \"Alisha Li\", \"Amara Jafar\", \"Amelia Karr\", \"Amie Tian\", \"Ana Sofia Almeida Zamora\", \"Anna Westwig\", \"Anna Zhou\", \"Ashley Chen\", \"Bailey Moore\", \"Beatrice Erickson\", \"Bella Perreira\", \"Brenda Zhang\", \"Caroline Hester\", \"Celine Yung\", \"Charlotte Adams\", \"Cheynie Singleton\", \"Cristina Marquez-Pereda\", \"Daphne Hwang\", \"Deeksha Gupta\", \"Diana Borrison\", \"Dolores Cavers\", \"Doreen Dai\", \"Dylan Bunyak\", \"Ela Peterson\", \"Eleanor Cowell\", \"Eleanor Harris\", \"Elena Attard\", \"Elizabeth Bradbury\", \"Elizabeth Murno\", \"Ella Knight\", \"Elle Scheffel\", \"Emma Sullivan\", \"Eva McNally\", \"Finn Kingsbury\", \"Frances Bibby\", \"Gabriel Bazan\", \"Genaiya Stephens\", \"Genevieve Mellott\", \"Georgia O'Gallagher\", \"Ginnie Peery\", \"Grace Knuth\", \"Grace Rigsby\", \"Hailie Anguiano\", \"Hala Habahbeh\", \"Hanna Kurdziel\", \"Hannah Albrecht\", \"Hannah Chiou\", \"Hannah Lim\", \"Hannah McMillan\", \"Harrison Raines Seeley\", \"Idana Wilson\", \"Imani Oseso\", \"Ines Cuero\", \"Iris Zhan\", \"Isabel Orozco Piedrahíta\", \"Isabela Sanchez Taipe\", \"Isabella Kim-LaTona\", \"Isabella Vazquez\", \"Jackleen Guo\", \"Jalynn Brooks-Perkins\", \"Jami Johnson\", \"Jennifer Doyle\", \"Jessica Keegan\", \"Jillian Sutton\", \"Julia Collins\", \"Julia Kuang\", \"Julia Reste\", \"Julie Zeng\", \"Julien Barriere\", \"Juno Appel\", \"Karrington Wilson\", \"Katherine Bruderman\", \"Kaurvaki Bajpai\", \"Kayla Angeli Luga\", \"Keku Wheelock\", \"Kennedy Black\", \"Kristal Maimo\", \"Kyunghyun Lee\", \"Laila Brustin\", \"Lara Kurtz\", \"Lauren Burgin\", \"Lauren Le Beau\", \"Lauren Lee\", \"Lilla Powers\", \"Lillian Games\", \"Lillian Goins\", \"Linh Dinh\", \"Linnea Finegold\", \"Loreley Godfrey\", \"Lucas O'Kelley\", \"Lucia Urreta\", \"Lucinée Teager\", \"Lyanne Wang\", \"Madeleine Hansen\", \"Madeline J\", \"Magdalena Manrique\", \"Mallika Sunder\", \"Mara Severts\", \"Maria Cristina Garcia\", \"Marielle Randall\", \"Marty Martinage\", \"Mary McDade\", \"Marysabel Morales\", \"Maya Blumenthal\", \"Maya Dijkstra\", \"Maya Escobosa\", \"Maya Landweber\", \"Megan Ries\", \"Meghana Lakkireddy\", \"Meleny Salgado\", \"Mia Scherer\", \"Michelle Li\", \"Mila Rosenthal-Vincenti\", \"Millie Auslender\", \"Molly Weber\", \"Natalie Thomas\", \"Natthida Haddawy\", \"Nico Jo\", \"Nicole Zhu\", \"Nivale Baxendell\", \"Norah Catlin\", \"Olivia Duda\", \"Olivia Edstrom\", \"Ozy Odocha\", \"Penelope Johnson\", \"Precious Kim\", \"Rebecca Birnbach\", \"Reyliana Griffin\", \"Reyna Winter\", \"Ria Lowenschuss\", \"Rory Lawless\", \"Ruth Jin\", \"Sabrina Miller\", \"Sabrina Owens\", \"Samantha Vasquez\", \"Samara Mellis\", \"Savannah Duclo\", \"Scout Painter\", \"Sophia Lewis\", \"Sophia Nachmanoff\", \"Sophia Petito\", \"Sophia Wu\", \"Sophie Belfance Colford\", \"Srila Prathivadhi-Bhayankaram\", \"Sruthi Bharath Kumar\", \"Stella Chiari\", \"Stephanie Aiddoo\", \"Stephanie Barcenas\", \"Sumin Heo\", \"Swelihle Tembe\", \"Tenzin Karma\", \"Valentina Costa\", \"Wamda Elzubair\", \"Yeonsoo Ham\", \"Zeina Nassif\", \"Zoey Yan\"]\n",
    "\n",
    "data_science_27 = [\"Aayah Osman\", \"Alisha Li\", \"Alyssa Woo\", \"Anny-Claude Joseph\", \"Audrey Liang\", \"Beatrix Kim\", \"Bessie Li\", \"Cassandra Pattanayak\", \"Chinaza Aham-Neze\", \"Elaine Zhao\", \"Emily Yang\", \"Eni Mustafaraj\", \"Farangiz Akhadova\", \"Felicia Selbst\", \"Finn Kingsbury\", \"Ilishaa Nerker\", \"Isabel Cheng\", \"Jasmine Chen\", \"Jeremy B Wilmer\", \"Jessica Lin\", \"Jolin Li\", \"Juliette Bacuvier\", \"Kaavya Senthil\", \"Katherine Bruderman\", \"Li Yin\", \"Lydia Alvita\", \"QiQi Li\", \"Sarah Yeh\", \"Serena Day\", \"Suhani Rao\", \"Tiffany Lin\", \"Wendy Wang\", \"Yaniv Yacoby\"]"
   ]
  },
  {
   "cell_type": "code",
   "execution_count": 13,
   "id": "e923bdc1",
   "metadata": {},
   "outputs": [
    {
     "name": "stdout",
     "output_type": "stream",
     "text": [
      "Total unique people: 375\n",
      "People in multiple organizations: 164\n",
      "\n",
      "Examples of people in multiple organizations:\n",
      "  Aileen Du: WZLY, Glass Garage\n",
      "  Aileen Liang: WZLY, Glass Garage\n",
      "  Ali Kyrouz: WZLY, Glass Garage\n",
      "  Amara Jafar: WZLY, Glass Garage\n",
      "  Amelia Karr: WZLY, Glass Garage\n",
      "  Amie Tian: WZLY, Glass Garage\n",
      "  Ana Sofia Almeida Zamora: WZLY, Glass Garage\n",
      "  Anna Nesbitt: WZLY, Whiptails\n",
      "  Anna Westwig: WZLY, Glass Garage\n",
      "  Anna Zhou: WZLY, Glass Garage\n",
      "\n",
      "Total individual edges (one per person per org pair): 189\n",
      "Unique organization pairs: 10\n",
      "\n",
      "Edge counts:\n",
      "  Glass Garage ↔ WZLY: 158 people\n",
      "  WZLY ↔ Whiptails: 6 people\n",
      "  Glass Garage ↔ Whiptails: 5 people\n",
      "  Data Science 27 ↔ WZLY: 2 people\n",
      "  Data Science 27 ↔ Whiptails: 1 people\n",
      "  Data Science 27 ↔ Glass Garage: 3 people\n",
      "  HKSA ↔ WZLY: 5 people\n",
      "  Glass Garage ↔ HKSA: 5 people\n",
      "  HKSA ↔ Whiptails: 2 people\n",
      "  Data Science 27 ↔ HKSA: 2 people\n",
      "\n",
      "Organization sizes:\n",
      "  WZLY: 191 members\n",
      "  Whiptails: 67 members\n",
      "  HKSA: 94 members\n",
      "  Glass Garage: 166 members\n",
      "  Data Science 27: 33 members\n"
     ]
    }
   ],
   "source": [
    "import plotly.graph_objects as go\n",
    "import plotly.express as px\n",
    "import networkx as nx\n",
    "import numpy as np\n",
    "from itertools import combinations\n",
    "\n",
    "# Create a dictionary mapping each person to their organizations\n",
    "person_to_orgs = {}\n",
    "\n",
    "# Map people to their organizations\n",
    "organizations = {\n",
    "    'WZLY': wzly_list,\n",
    "    'Whiptails': frisbee_list,\n",
    "    'HKSA': hksa,\n",
    "    'Glass Garage': glass_garage,\n",
    "    'Data Science 27': data_science_27\n",
    "}\n",
    "\n",
    "# Build person-to-organizations mapping\n",
    "for org_name, members in organizations.items():\n",
    "    for person in members:\n",
    "        if person not in person_to_orgs:\n",
    "            person_to_orgs[person] = []\n",
    "        person_to_orgs[person].append(org_name)\n",
    "\n",
    "# Find people with multiple memberships\n",
    "multi_org_people = {person: orgs for person, orgs in person_to_orgs.items() if len(orgs) > 1}\n",
    "\n",
    "print(f\"Total unique people: {len(person_to_orgs)}\")\n",
    "print(f\"People in multiple organizations: {len(multi_org_people)}\")\n",
    "\n",
    "# Show some examples\n",
    "print(\"\\nExamples of people in multiple organizations:\")\n",
    "for person, orgs in list(multi_org_people.items())[:10]:\n",
    "    print(f\"  {person}: {', '.join(orgs)}\")\n",
    "\n",
    "# Create individual edges for each person's organization pairs\n",
    "individual_edges = []\n",
    "for person, orgs in multi_org_people.items():\n",
    "    # Create an edge for every pair of organizations this person is in\n",
    "    for org1, org2 in combinations(orgs, 2):\n",
    "        # Sort to ensure consistent edge direction\n",
    "        edge = tuple(sorted([org1, org2]))\n",
    "        individual_edges.append(edge)\n",
    "\n",
    "print(f\"\\nTotal individual edges (one per person per org pair): {len(individual_edges)}\")\n",
    "\n",
    "# Count edge frequencies for thickness\n",
    "from collections import Counter\n",
    "edge_counts = Counter(individual_edges)\n",
    "\n",
    "print(f\"Unique organization pairs: {len(edge_counts)}\")\n",
    "print(\"\\nEdge counts:\")\n",
    "for edge, count in edge_counts.items():\n",
    "    print(f\"  {edge[0]} ↔ {edge[1]}: {count} people\")\n",
    "\n",
    "# Organization sizes for reference\n",
    "org_sizes = {name: len(members) for name, members in organizations.items()}\n",
    "print(f\"\\nOrganization sizes:\")\n",
    "for org, size in org_sizes.items():\n",
    "    print(f\"  {org}: {size} members\")"
   ]
  },
  {
   "cell_type": "code",
   "execution_count": 14,
   "id": "ccbce73f",
   "metadata": {},
   "outputs": [
    {
     "data": {
      "application/vnd.plotly.v1+json": {
       "config": {
        "plotlyServerURL": "https://plot.ly"
       },
       "data": [
        {
         "hoverinfo": "text",
         "hovertext": "WZLY ↔ Glass Garage: 158 people",
         "line": {
          "color": "rgba(100, 100, 100, 0.3)",
          "width": 1.5
         },
         "mode": "lines",
         "name": "person_edge_0",
         "showlegend": false,
         "type": "scatter",
         "x": [
          0.38607775217779844,
          0.20553680301745114
         ],
         "y": [
          -0.12271520772325309,
          0.0878845923842779
         ]
        },
        {
         "hoverinfo": "text",
         "hovertext": "WZLY ↔ Glass Garage: 158 people",
         "line": {
          "color": "rgba(100, 100, 100, 0.3)",
          "width": 1.5
         },
         "mode": "lines",
         "name": "person_edge_1",
         "showlegend": false,
         "type": "scatter",
         "x": [
          0.38577406865784,
          0.20523311949749268
         ],
         "y": [
          -0.12297554657879646,
          0.08762425352873453
         ]
        },
        {
         "hoverinfo": "text",
         "hovertext": "WZLY ↔ Glass Garage: 158 people",
         "line": {
          "color": "rgba(100, 100, 100, 0.3)",
          "width": 1.5
         },
         "mode": "lines",
         "name": "person_edge_2",
         "showlegend": false,
         "type": "scatter",
         "x": [
          0.3854703851378815,
          0.2049294359775342
         ],
         "y": [
          -0.12323588543433983,
          0.08736391467319116
         ]
        },
        {
         "hoverinfo": "text",
         "hovertext": "WZLY ↔ Glass Garage: 158 people",
         "line": {
          "color": "rgba(100, 100, 100, 0.3)",
          "width": 1.5
         },
         "mode": "lines",
         "name": "person_edge_3",
         "showlegend": false,
         "type": "scatter",
         "x": [
          0.38516670161792305,
          0.20462575245757572
         ],
         "y": [
          -0.1234962242898832,
          0.08710357581764779
         ]
        },
        {
         "hoverinfo": "text",
         "hovertext": "WZLY ↔ Glass Garage: 158 people",
         "line": {
          "color": "rgba(100, 100, 100, 0.3)",
          "width": 1.5
         },
         "mode": "lines",
         "name": "person_edge_4",
         "showlegend": false,
         "type": "scatter",
         "x": [
          0.3848630180979646,
          0.20432206893761726
         ],
         "y": [
          -0.12375656314542657,
          0.08684323696210441
         ]
        },
        {
         "hoverinfo": "text",
         "hovertext": "WZLY ↔ Glass Garage: 158 people",
         "line": {
          "color": "rgba(100, 100, 100, 0.3)",
          "width": 1.5
         },
         "mode": "lines",
         "name": "person_edge_5",
         "showlegend": false,
         "type": "scatter",
         "x": [
          0.38455933457800606,
          0.2040183854176588
         ],
         "y": [
          -0.12401690200096996,
          0.08658289810656103
         ]
        },
        {
         "hoverinfo": "text",
         "hovertext": "WZLY ↔ Glass Garage: 158 people",
         "line": {
          "color": "rgba(100, 100, 100, 0.3)",
          "width": 1.5
         },
         "mode": "lines",
         "name": "person_edge_6",
         "showlegend": false,
         "type": "scatter",
         "x": [
          0.3842556510580476,
          0.20371470189770033
         ],
         "y": [
          -0.12427724085651333,
          0.08632255925101766
         ]
        },
        {
         "hoverinfo": "text",
         "hovertext": "WZLY ↔ Glass Garage: 158 people",
         "line": {
          "color": "rgba(100, 100, 100, 0.3)",
          "width": 1.5
         },
         "mode": "lines",
         "name": "person_edge_7",
         "showlegend": false,
         "type": "scatter",
         "x": [
          0.38395196753808913,
          0.20341101837774184
         ],
         "y": [
          -0.1245375797120567,
          0.08606222039547429
         ]
        },
        {
         "hoverinfo": "text",
         "hovertext": "WZLY ↔ Glass Garage: 158 people",
         "line": {
          "color": "rgba(100, 100, 100, 0.3)",
          "width": 1.5
         },
         "mode": "lines",
         "name": "person_edge_8",
         "showlegend": false,
         "type": "scatter",
         "x": [
          0.38364828401813067,
          0.20310733485778337
         ],
         "y": [
          -0.12479791856760007,
          0.08580188153993092
         ]
        },
        {
         "hoverinfo": "text",
         "hovertext": "WZLY ↔ Glass Garage: 158 people",
         "line": {
          "color": "rgba(100, 100, 100, 0.3)",
          "width": 1.5
         },
         "mode": "lines",
         "name": "person_edge_9",
         "showlegend": false,
         "type": "scatter",
         "x": [
          0.3833446004981722,
          0.2028036513378249
         ],
         "y": [
          -0.12505825742314344,
          0.08554154268438754
         ]
        },
        {
         "hoverinfo": "text",
         "hovertext": "WZLY ↔ Glass Garage: 158 people",
         "line": {
          "color": "rgba(100, 100, 100, 0.3)",
          "width": 1.5
         },
         "mode": "lines",
         "name": "person_edge_10",
         "showlegend": false,
         "type": "scatter",
         "x": [
          0.38304091697821374,
          0.20249996781786644
         ],
         "y": [
          -0.12531859627868683,
          0.08528120382884417
         ]
        },
        {
         "hoverinfo": "text",
         "hovertext": "WZLY ↔ Glass Garage: 158 people",
         "line": {
          "color": "rgba(100, 100, 100, 0.3)",
          "width": 1.5
         },
         "mode": "lines",
         "name": "person_edge_11",
         "showlegend": false,
         "type": "scatter",
         "x": [
          0.3827372334582553,
          0.20219628429790795
         ],
         "y": [
          -0.12557893513423019,
          0.0850208649733008
         ]
        },
        {
         "hoverinfo": "text",
         "hovertext": "WZLY ↔ Glass Garage: 158 people",
         "line": {
          "color": "rgba(100, 100, 100, 0.3)",
          "width": 1.5
         },
         "mode": "lines",
         "name": "person_edge_12",
         "showlegend": false,
         "type": "scatter",
         "x": [
          0.3824335499382968,
          0.2018926007779495
         ],
         "y": [
          -0.12583927398977357,
          0.08476052611775743
         ]
        },
        {
         "hoverinfo": "text",
         "hovertext": "WZLY ↔ Glass Garage: 158 people",
         "line": {
          "color": "rgba(100, 100, 100, 0.3)",
          "width": 1.5
         },
         "mode": "lines",
         "name": "person_edge_13",
         "showlegend": false,
         "type": "scatter",
         "x": [
          0.3821298664183383,
          0.20158891725799102
         ],
         "y": [
          -0.12609961284531693,
          0.08450018726221406
         ]
        },
        {
         "hoverinfo": "text",
         "hovertext": "WZLY ↔ Glass Garage: 158 people",
         "line": {
          "color": "rgba(100, 100, 100, 0.3)",
          "width": 1.5
         },
         "mode": "lines",
         "name": "person_edge_14",
         "showlegend": false,
         "type": "scatter",
         "x": [
          0.38182618289837983,
          0.20128523373803256
         ],
         "y": [
          -0.1263599517008603,
          0.08423984840667068
         ]
        },
        {
         "hoverinfo": "text",
         "hovertext": "WZLY ↔ Glass Garage: 158 people",
         "line": {
          "color": "rgba(100, 100, 100, 0.3)",
          "width": 1.5
         },
         "mode": "lines",
         "name": "person_edge_15",
         "showlegend": false,
         "type": "scatter",
         "x": [
          0.38152249937842136,
          0.20098155021807407
         ],
         "y": [
          -0.12662029055640367,
          0.0839795095511273
         ]
        },
        {
         "hoverinfo": "text",
         "hovertext": "WZLY ↔ Glass Garage: 158 people",
         "line": {
          "color": "rgba(100, 100, 100, 0.3)",
          "width": 1.5
         },
         "mode": "lines",
         "name": "person_edge_16",
         "showlegend": false,
         "type": "scatter",
         "x": [
          0.3812188158584629,
          0.2006778666981156
         ],
         "y": [
          -0.12688062941194705,
          0.08371917069558393
         ]
        },
        {
         "hoverinfo": "text",
         "hovertext": "WZLY ↔ Glass Garage: 158 people",
         "line": {
          "color": "rgba(100, 100, 100, 0.3)",
          "width": 1.5
         },
         "mode": "lines",
         "name": "person_edge_17",
         "showlegend": false,
         "type": "scatter",
         "x": [
          0.38091513233850444,
          0.20037418317815714
         ],
         "y": [
          -0.1271409682674904,
          0.08345883184004056
         ]
        },
        {
         "hoverinfo": "text",
         "hovertext": "WZLY ↔ Glass Garage: 158 people",
         "line": {
          "color": "rgba(100, 100, 100, 0.3)",
          "width": 1.5
         },
         "mode": "lines",
         "name": "person_edge_18",
         "showlegend": false,
         "type": "scatter",
         "x": [
          0.38061144881854597,
          0.20007049965819867
         ],
         "y": [
          -0.1274013071230338,
          0.08319849298449719
         ]
        },
        {
         "hoverinfo": "text",
         "hovertext": "WZLY ↔ Glass Garage: 158 people",
         "line": {
          "color": "rgba(100, 100, 100, 0.3)",
          "width": 1.5
         },
         "mode": "lines",
         "name": "person_edge_19",
         "showlegend": false,
         "type": "scatter",
         "x": [
          0.3803077652985875,
          0.19976681613824018
         ],
         "y": [
          -0.12766164597857715,
          0.08293815412895382
         ]
        },
        {
         "hoverinfo": "text",
         "hovertext": "WZLY ↔ Glass Garage: 158 people",
         "line": {
          "color": "rgba(100, 100, 100, 0.3)",
          "width": 1.5
         },
         "mode": "lines",
         "name": "person_edge_20",
         "showlegend": false,
         "type": "scatter",
         "x": [
          0.38000408177862904,
          0.19946313261828172
         ],
         "y": [
          -0.12792198483412054,
          0.08267781527341045
         ]
        },
        {
         "hoverinfo": "text",
         "hovertext": "WZLY ↔ Glass Garage: 158 people",
         "line": {
          "color": "rgba(100, 100, 100, 0.3)",
          "width": 1.5
         },
         "mode": "lines",
         "name": "person_edge_21",
         "showlegend": false,
         "type": "scatter",
         "x": [
          0.3797003982586705,
          0.19915944909832325
         ],
         "y": [
          -0.12818232368966392,
          0.08241747641786708
         ]
        },
        {
         "hoverinfo": "text",
         "hovertext": "WZLY ↔ Glass Garage: 158 people",
         "line": {
          "color": "rgba(100, 100, 100, 0.3)",
          "width": 1.5
         },
         "mode": "lines",
         "name": "person_edge_22",
         "showlegend": false,
         "type": "scatter",
         "x": [
          0.37939671473871206,
          0.1988557655783648
         ],
         "y": [
          -0.12844266254520728,
          0.0821571375623237
         ]
        },
        {
         "hoverinfo": "text",
         "hovertext": "WZLY ↔ Glass Garage: 158 people",
         "line": {
          "color": "rgba(100, 100, 100, 0.3)",
          "width": 1.5
         },
         "mode": "lines",
         "name": "person_edge_23",
         "showlegend": false,
         "type": "scatter",
         "x": [
          0.3790930312187536,
          0.1985520820584063
         ],
         "y": [
          -0.12870300140075067,
          0.08189679870678034
         ]
        },
        {
         "hoverinfo": "text",
         "hovertext": "WZLY ↔ Glass Garage: 158 people",
         "line": {
          "color": "rgba(100, 100, 100, 0.3)",
          "width": 1.5
         },
         "mode": "lines",
         "name": "person_edge_24",
         "showlegend": false,
         "type": "scatter",
         "x": [
          0.37878934769879513,
          0.19824839853844783
         ],
         "y": [
          -0.12896334025629402,
          0.08163645985123696
         ]
        },
        {
         "hoverinfo": "text",
         "hovertext": "WZLY ↔ Glass Garage: 158 people",
         "line": {
          "color": "rgba(100, 100, 100, 0.3)",
          "width": 1.5
         },
         "mode": "lines",
         "name": "person_edge_25",
         "showlegend": false,
         "type": "scatter",
         "x": [
          0.37848566417883667,
          0.19794471501848937
         ],
         "y": [
          -0.1292236791118374,
          0.08137612099569358
         ]
        },
        {
         "hoverinfo": "text",
         "hovertext": "WZLY ↔ Glass Garage: 158 people",
         "line": {
          "color": "rgba(100, 100, 100, 0.3)",
          "width": 1.5
         },
         "mode": "lines",
         "name": "person_edge_26",
         "showlegend": false,
         "type": "scatter",
         "x": [
          0.3781819806588782,
          0.1976410314985309
         ],
         "y": [
          -0.12948401796738077,
          0.08111578214015021
         ]
        },
        {
         "hoverinfo": "text",
         "hovertext": "WZLY ↔ Glass Garage: 158 people",
         "line": {
          "color": "rgba(100, 100, 100, 0.3)",
          "width": 1.5
         },
         "mode": "lines",
         "name": "person_edge_27",
         "showlegend": false,
         "type": "scatter",
         "x": [
          0.37787829713891974,
          0.1973373479785724
         ],
         "y": [
          -0.12974435682292415,
          0.08085544328460684
         ]
        },
        {
         "hoverinfo": "text",
         "hovertext": "WZLY ↔ Glass Garage: 158 people",
         "line": {
          "color": "rgba(100, 100, 100, 0.3)",
          "width": 1.5
         },
         "mode": "lines",
         "name": "person_edge_28",
         "showlegend": false,
         "type": "scatter",
         "x": [
          0.3775746136189613,
          0.19703366445861395
         ],
         "y": [
          -0.1300046956784675,
          0.08059510442906347
         ]
        },
        {
         "hoverinfo": "text",
         "hovertext": "WZLY ↔ Glass Garage: 158 people",
         "line": {
          "color": "rgba(100, 100, 100, 0.3)",
          "width": 1.5
         },
         "mode": "lines",
         "name": "person_edge_29",
         "showlegend": false,
         "type": "scatter",
         "x": [
          0.37727093009900275,
          0.19672998093865549
         ],
         "y": [
          -0.1302650345340109,
          0.0803347655735201
         ]
        },
        {
         "hoverinfo": "text",
         "hovertext": "WZLY ↔ Glass Garage: 158 people",
         "line": {
          "color": "rgba(100, 100, 100, 0.3)",
          "width": 1.5
         },
         "mode": "lines",
         "name": "person_edge_30",
         "showlegend": false,
         "type": "scatter",
         "x": [
          0.3769672465790443,
          0.19642629741869702
         ],
         "y": [
          -0.13052537338955428,
          0.08007442671797672
         ]
        },
        {
         "hoverinfo": "text",
         "hovertext": "WZLY ↔ Glass Garage: 158 people",
         "line": {
          "color": "rgba(100, 100, 100, 0.3)",
          "width": 1.5
         },
         "mode": "lines",
         "name": "person_edge_31",
         "showlegend": false,
         "type": "scatter",
         "x": [
          0.3766635630590858,
          0.19612261389873853
         ],
         "y": [
          -0.13078571224509764,
          0.07981408786243335
         ]
        },
        {
         "hoverinfo": "text",
         "hovertext": "WZLY ↔ Glass Garage: 158 people",
         "line": {
          "color": "rgba(100, 100, 100, 0.3)",
          "width": 1.5
         },
         "mode": "lines",
         "name": "person_edge_32",
         "showlegend": false,
         "type": "scatter",
         "x": [
          0.37635987953912736,
          0.19581893037878007
         ],
         "y": [
          -0.13104605110064102,
          0.07955374900688998
         ]
        },
        {
         "hoverinfo": "text",
         "hovertext": "WZLY ↔ Glass Garage: 158 people",
         "line": {
          "color": "rgba(100, 100, 100, 0.3)",
          "width": 1.5
         },
         "mode": "lines",
         "name": "person_edge_33",
         "showlegend": false,
         "type": "scatter",
         "x": [
          0.3760561960191689,
          0.1955152468588216
         ],
         "y": [
          -0.13130638995618438,
          0.07929341015134661
         ]
        },
        {
         "hoverinfo": "text",
         "hovertext": "WZLY ↔ Glass Garage: 158 people",
         "line": {
          "color": "rgba(100, 100, 100, 0.3)",
          "width": 1.5
         },
         "mode": "lines",
         "name": "person_edge_34",
         "showlegend": false,
         "type": "scatter",
         "x": [
          0.37575251249921043,
          0.19521156333886314
         ],
         "y": [
          -0.13156672881172776,
          0.07903307129580324
         ]
        },
        {
         "hoverinfo": "text",
         "hovertext": "WZLY ↔ Glass Garage: 158 people",
         "line": {
          "color": "rgba(100, 100, 100, 0.3)",
          "width": 1.5
         },
         "mode": "lines",
         "name": "person_edge_35",
         "showlegend": false,
         "type": "scatter",
         "x": [
          0.37544882897925197,
          0.19490787981890464
         ],
         "y": [
          -0.13182706766727112,
          0.07877273244025987
         ]
        },
        {
         "hoverinfo": "text",
         "hovertext": "WZLY ↔ Glass Garage: 158 people",
         "line": {
          "color": "rgba(100, 100, 100, 0.3)",
          "width": 1.5
         },
         "mode": "lines",
         "name": "person_edge_36",
         "showlegend": false,
         "type": "scatter",
         "x": [
          0.3751451454592935,
          0.19460419629894618
         ],
         "y": [
          -0.1320874065228145,
          0.07851239358471648
         ]
        },
        {
         "hoverinfo": "text",
         "hovertext": "WZLY ↔ Glass Garage: 158 people",
         "line": {
          "color": "rgba(100, 100, 100, 0.3)",
          "width": 1.5
         },
         "mode": "lines",
         "name": "person_edge_37",
         "showlegend": false,
         "type": "scatter",
         "x": [
          0.374841461939335,
          0.19430051277898772
         ],
         "y": [
          -0.13234774537835786,
          0.07825205472917311
         ]
        },
        {
         "hoverinfo": "text",
         "hovertext": "WZLY ↔ Glass Garage: 158 people",
         "line": {
          "color": "rgba(100, 100, 100, 0.3)",
          "width": 1.5
         },
         "mode": "lines",
         "name": "person_edge_38",
         "showlegend": false,
         "type": "scatter",
         "x": [
          0.3745377784193765,
          0.19399682925902925
         ],
         "y": [
          -0.13260808423390125,
          0.07799171587362974
         ]
        },
        {
         "hoverinfo": "text",
         "hovertext": "WZLY ↔ Glass Garage: 158 people",
         "line": {
          "color": "rgba(100, 100, 100, 0.3)",
          "width": 1.5
         },
         "mode": "lines",
         "name": "person_edge_39",
         "showlegend": false,
         "type": "scatter",
         "x": [
          0.37423409489941806,
          0.19369314573907076
         ],
         "y": [
          -0.1328684230894446,
          0.07773137701808637
         ]
        },
        {
         "hoverinfo": "text",
         "hovertext": "WZLY ↔ Glass Garage: 158 people",
         "line": {
          "color": "rgba(100, 100, 100, 0.3)",
          "width": 1.5
         },
         "mode": "lines",
         "name": "person_edge_40",
         "showlegend": false,
         "type": "scatter",
         "x": [
          0.3739304113794596,
          0.1933894622191123
         ],
         "y": [
          -0.133128761944988,
          0.077471038162543
         ]
        },
        {
         "hoverinfo": "text",
         "hovertext": "WZLY ↔ Glass Garage: 158 people",
         "line": {
          "color": "rgba(100, 100, 100, 0.3)",
          "width": 1.5
         },
         "mode": "lines",
         "name": "person_edge_41",
         "showlegend": false,
         "type": "scatter",
         "x": [
          0.37362672785950113,
          0.19308577869915383
         ],
         "y": [
          -0.13338910080053137,
          0.07721069930699963
         ]
        },
        {
         "hoverinfo": "text",
         "hovertext": "WZLY ↔ Glass Garage: 158 people",
         "line": {
          "color": "rgba(100, 100, 100, 0.3)",
          "width": 1.5
         },
         "mode": "lines",
         "name": "person_edge_42",
         "showlegend": false,
         "type": "scatter",
         "x": [
          0.37332304433954266,
          0.19278209517919537
         ],
         "y": [
          -0.13364943965607473,
          0.07695036045145626
         ]
        },
        {
         "hoverinfo": "text",
         "hovertext": "WZLY ↔ Glass Garage: 158 people",
         "line": {
          "color": "rgba(100, 100, 100, 0.3)",
          "width": 1.5
         },
         "mode": "lines",
         "name": "person_edge_43",
         "showlegend": false,
         "type": "scatter",
         "x": [
          0.3730193608195842,
          0.19247841165923688
         ],
         "y": [
          -0.13390977851161812,
          0.07669002159591289
         ]
        },
        {
         "hoverinfo": "text",
         "hovertext": "WZLY ↔ Glass Garage: 158 people",
         "line": {
          "color": "rgba(100, 100, 100, 0.3)",
          "width": 1.5
         },
         "mode": "lines",
         "name": "person_edge_44",
         "showlegend": false,
         "type": "scatter",
         "x": [
          0.37271567729962574,
          0.1921747281392784
         ],
         "y": [
          -0.13417011736716147,
          0.07642968274036951
         ]
        },
        {
         "hoverinfo": "text",
         "hovertext": "WZLY ↔ Glass Garage: 158 people",
         "line": {
          "color": "rgba(100, 100, 100, 0.3)",
          "width": 1.5
         },
         "mode": "lines",
         "name": "person_edge_45",
         "showlegend": false,
         "type": "scatter",
         "x": [
          0.3724119937796672,
          0.19187104461931995
         ],
         "y": [
          -0.13443045622270486,
          0.07616934388482613
         ]
        },
        {
         "hoverinfo": "text",
         "hovertext": "WZLY ↔ Glass Garage: 158 people",
         "line": {
          "color": "rgba(100, 100, 100, 0.3)",
          "width": 1.5
         },
         "mode": "lines",
         "name": "person_edge_46",
         "showlegend": false,
         "type": "scatter",
         "x": [
          0.37210831025970875,
          0.19156736109936148
         ],
         "y": [
          -0.13469079507824822,
          0.07590900502928276
         ]
        },
        {
         "hoverinfo": "text",
         "hovertext": "WZLY ↔ Glass Garage: 158 people",
         "line": {
          "color": "rgba(100, 100, 100, 0.3)",
          "width": 1.5
         },
         "mode": "lines",
         "name": "person_edge_47",
         "showlegend": false,
         "type": "scatter",
         "x": [
          0.3718046267397503,
          0.191263677579403
         ],
         "y": [
          -0.1349511339337916,
          0.07564866617373939
         ]
        },
        {
         "hoverinfo": "text",
         "hovertext": "WZLY ↔ Glass Garage: 158 people",
         "line": {
          "color": "rgba(100, 100, 100, 0.3)",
          "width": 1.5
         },
         "mode": "lines",
         "name": "person_edge_48",
         "showlegend": false,
         "type": "scatter",
         "x": [
          0.3715009432197918,
          0.19095999405944453
         ],
         "y": [
          -0.13521147278933496,
          0.07538832731819602
         ]
        },
        {
         "hoverinfo": "text",
         "hovertext": "WZLY ↔ Glass Garage: 158 people",
         "line": {
          "color": "rgba(100, 100, 100, 0.3)",
          "width": 1.5
         },
         "mode": "lines",
         "name": "person_edge_49",
         "showlegend": false,
         "type": "scatter",
         "x": [
          0.37119725969983336,
          0.19065631053948606
         ],
         "y": [
          -0.13547181164487834,
          0.07512798846265265
         ]
        },
        {
         "hoverinfo": "text",
         "hovertext": "WZLY ↔ Whiptails: 6 people",
         "line": {
          "color": "rgba(100, 100, 100, 0.3)",
          "width": 1.5
         },
         "mode": "lines",
         "name": "person_edge_0",
         "showlegend": false,
         "type": "scatter",
         "x": [
          0.37057622449492633,
          0.17592698320652006
         ],
         "y": [
          -0.12698159445687351,
          -0.8699670593382262
         ]
        },
        {
         "hoverinfo": "text",
         "hovertext": "WZLY ↔ Whiptails: 6 people",
         "line": {
          "color": "rgba(100, 100, 100, 0.3)",
          "width": 1.5
         },
         "mode": "lines",
         "name": "person_edge_1",
         "showlegend": false,
         "type": "scatter",
         "x": [
          0.3738007370724822,
          0.17915149578407588
         ],
         "y": [
          -0.1278263605477504,
          -0.8708118254291031
         ]
        },
        {
         "hoverinfo": "text",
         "hovertext": "WZLY ↔ Whiptails: 6 people",
         "line": {
          "color": "rgba(100, 100, 100, 0.3)",
          "width": 1.5
         },
         "mode": "lines",
         "name": "person_edge_2",
         "showlegend": false,
         "type": "scatter",
         "x": [
          0.377025249650038,
          0.1823760083616317
         ],
         "y": [
          -0.1286711266386273,
          -0.87165659151998
         ]
        },
        {
         "hoverinfo": "text",
         "hovertext": "WZLY ↔ Whiptails: 6 people",
         "line": {
          "color": "rgba(100, 100, 100, 0.3)",
          "width": 1.5
         },
         "mode": "lines",
         "name": "person_edge_3",
         "showlegend": false,
         "type": "scatter",
         "x": [
          0.3802497622275938,
          0.18560052093918755
         ],
         "y": [
          -0.12951589272950415,
          -0.8725013576108568
         ]
        },
        {
         "hoverinfo": "text",
         "hovertext": "WZLY ↔ Whiptails: 6 people",
         "line": {
          "color": "rgba(100, 100, 100, 0.3)",
          "width": 1.5
         },
         "mode": "lines",
         "name": "person_edge_4",
         "showlegend": false,
         "type": "scatter",
         "x": [
          0.3834742748051496,
          0.18882503351674337
         ],
         "y": [
          -0.13036065882038103,
          -0.8733461237017337
         ]
        },
        {
         "hoverinfo": "text",
         "hovertext": "WZLY ↔ Whiptails: 6 people",
         "line": {
          "color": "rgba(100, 100, 100, 0.3)",
          "width": 1.5
         },
         "mode": "lines",
         "name": "person_edge_5",
         "showlegend": false,
         "type": "scatter",
         "x": [
          0.38669878738270547,
          0.1920495460942992
         ],
         "y": [
          -0.13120542491125792,
          -0.8741908897926106
         ]
        },
        {
         "hoverinfo": "text",
         "hovertext": "WZLY ↔ Data Science 27: 2 people",
         "line": {
          "color": "rgba(100, 100, 100, 0.3)",
          "width": 1.5
         },
         "mode": "lines",
         "name": "person_edge_0",
         "showlegend": false,
         "type": "scatter",
         "x": [
          0.38322030064717366,
          -0.10940930063089085
         ],
         "y": [
          -0.12709401158177902,
          1.0019994981022866
         ]
        },
        {
         "hoverinfo": "text",
         "hovertext": "WZLY ↔ Data Science 27: 2 people",
         "line": {
          "color": "rgba(100, 100, 100, 0.3)",
          "width": 1.5
         },
         "mode": "lines",
         "name": "person_edge_1",
         "showlegend": false,
         "type": "scatter",
         "x": [
          0.37405471123045814,
          -0.11857489004760638
         ],
         "y": [
          -0.1310930077863524,
          0.9980005018977133
         ]
        },
        {
         "hoverinfo": "text",
         "hovertext": "WZLY ↔ HKSA: 5 people",
         "line": {
          "color": "rgba(100, 100, 100, 0.3)",
          "width": 1.5
         },
         "mode": "lines",
         "name": "person_edge_0",
         "showlegend": false,
         "type": "scatter",
         "x": [
          0.37901750358676506,
          -0.6463502343804962
         ],
         "y": [
          -0.12110253966863248,
          -0.07234283615854806
         ]
        },
        {
         "hoverinfo": "text",
         "hovertext": "WZLY ↔ HKSA: 5 people",
         "line": {
          "color": "rgba(100, 100, 100, 0.3)",
          "width": 1.5
         },
         "mode": "lines",
         "name": "person_edge_1",
         "showlegend": false,
         "type": "scatter",
         "x": [
          0.3788275047627905,
          -0.6465402332044708
         ],
         "y": [
          -0.1250980246763491,
          -0.07633832116626467
         ]
        },
        {
         "hoverinfo": "text",
         "hovertext": "WZLY ↔ HKSA: 5 people",
         "line": {
          "color": "rgba(100, 100, 100, 0.3)",
          "width": 1.5
         },
         "mode": "lines",
         "name": "person_edge_2",
         "showlegend": false,
         "type": "scatter",
         "x": [
          0.3786375059388159,
          -0.6467302320284454
         ],
         "y": [
          -0.12909350968406572,
          -0.0803338061739813
         ]
        },
        {
         "hoverinfo": "text",
         "hovertext": "WZLY ↔ HKSA: 5 people",
         "line": {
          "color": "rgba(100, 100, 100, 0.3)",
          "width": 1.5
         },
         "mode": "lines",
         "name": "person_edge_3",
         "showlegend": false,
         "type": "scatter",
         "x": [
          0.3784475071148413,
          -0.6469202308524199
         ],
         "y": [
          -0.13308899469178234,
          -0.08432929118169792
         ]
        },
        {
         "hoverinfo": "text",
         "hovertext": "WZLY ↔ HKSA: 5 people",
         "line": {
          "color": "rgba(100, 100, 100, 0.3)",
          "width": 1.5
         },
         "mode": "lines",
         "name": "person_edge_4",
         "showlegend": false,
         "type": "scatter",
         "x": [
          0.37825750829086674,
          -0.6471102296763945
         ],
         "y": [
          -0.13708447969949897,
          -0.08832477618941453
         ]
        },
        {
         "hoverinfo": "text",
         "hovertext": "Whiptails ↔ Glass Garage: 5 people",
         "line": {
          "color": "rgba(100, 100, 100, 0.3)",
          "width": 1.5
         },
         "mode": "lines",
         "name": "person_edge_0",
         "showlegend": false,
         "type": "scatter",
         "x": [
          0.19198738922625627,
          0.20609568135431525
         ],
         "y": [
          -0.872197321597853,
          0.08138794339103068
         ]
        },
        {
         "hoverinfo": "text",
         "hovertext": "Whiptails ↔ Glass Garage: 5 people",
         "line": {
          "color": "rgba(100, 100, 100, 0.3)",
          "width": 1.5
         },
         "mode": "lines",
         "name": "person_edge_1",
         "showlegend": false,
         "type": "scatter",
         "x": [
          0.18798782693833296,
          0.20209611906639194
         ],
         "y": [
          -0.8721381480816357,
          0.08144711690724799
         ]
        },
        {
         "hoverinfo": "text",
         "hovertext": "Whiptails ↔ Glass Garage: 5 people",
         "line": {
          "color": "rgba(100, 100, 100, 0.3)",
          "width": 1.5
         },
         "mode": "lines",
         "name": "person_edge_2",
         "showlegend": false,
         "type": "scatter",
         "x": [
          0.18398826465040963,
          0.1980965567784686
         ],
         "y": [
          -0.8720789745654184,
          0.08150629042346527
         ]
        },
        {
         "hoverinfo": "text",
         "hovertext": "Whiptails ↔ Glass Garage: 5 people",
         "line": {
          "color": "rgba(100, 100, 100, 0.3)",
          "width": 1.5
         },
         "mode": "lines",
         "name": "person_edge_3",
         "showlegend": false,
         "type": "scatter",
         "x": [
          0.1799887023624863,
          0.19409699449054527
         ],
         "y": [
          -0.8720198010492011,
          0.08156546393968256
         ]
        },
        {
         "hoverinfo": "text",
         "hovertext": "Whiptails ↔ Glass Garage: 5 people",
         "line": {
          "color": "rgba(100, 100, 100, 0.3)",
          "width": 1.5
         },
         "mode": "lines",
         "name": "person_edge_4",
         "showlegend": false,
         "type": "scatter",
         "x": [
          0.17598914007456298,
          0.19009743220262196
         ],
         "y": [
          -0.8719606275329838,
          0.08162463745589986
         ]
        },
        {
         "hoverinfo": "text",
         "hovertext": "Whiptails ↔ Data Science 27: 1 people",
         "line": {
          "color": "rgba(100, 100, 100, 0.3)",
          "width": 1.5
         },
         "mode": "lines",
         "name": "person_edge_0",
         "showlegend": false,
         "type": "scatter",
         "x": [
          0.18398826465040963,
          -0.11399209533924862
         ],
         "y": [
          -0.8720789745654184,
          1
         ]
        },
        {
         "hoverinfo": "text",
         "hovertext": "Whiptails ↔ HKSA: 2 people",
         "line": {
          "color": "rgba(100, 100, 100, 0.3)",
          "width": 1.5
         },
         "mode": "lines",
         "name": "person_edge_0",
         "showlegend": false,
         "type": "scatter",
         "x": [
          0.18743787612566543,
          -0.6432806205531896
         ],
         "y": [
          -0.8684595573927533,
          -0.07671438900131614
         ]
        },
        {
         "hoverinfo": "text",
         "hovertext": "Whiptails ↔ HKSA: 2 people",
         "line": {
          "color": "rgba(100, 100, 100, 0.3)",
          "width": 1.5
         },
         "mode": "lines",
         "name": "person_edge_1",
         "showlegend": false,
         "type": "scatter",
         "x": [
          0.18053865317515383,
          -0.6501798435037012
         ],
         "y": [
          -0.8756983917380835,
          -0.08395322334664646
         ]
        },
        {
         "hoverinfo": "text",
         "hovertext": "HKSA ↔ Glass Garage: 5 people",
         "line": {
          "color": "rgba(100, 100, 100, 0.3)",
          "width": 1.5
         },
         "mode": "lines",
         "name": "person_edge_0",
         "showlegend": false,
         "type": "scatter",
         "x": [
          -0.6452250729366438,
          0.19960171587027017
         ],
         "y": [
          -0.08819093644580236,
          0.0736491601516442
         ]
        },
        {
         "hoverinfo": "text",
         "hovertext": "HKSA ↔ Glass Garage: 5 people",
         "line": {
          "color": "rgba(100, 100, 100, 0.3)",
          "width": 1.5
         },
         "mode": "lines",
         "name": "person_edge_1",
         "showlegend": false,
         "type": "scatter",
         "x": [
          -0.6459776524825446,
          0.19884913632436937
         ],
         "y": [
          -0.08426237130989184,
          0.07757772528755473
         ]
        },
        {
         "hoverinfo": "text",
         "hovertext": "HKSA ↔ Glass Garage: 5 people",
         "line": {
          "color": "rgba(100, 100, 100, 0.3)",
          "width": 1.5
         },
         "mode": "lines",
         "name": "person_edge_2",
         "showlegend": false,
         "type": "scatter",
         "x": [
          -0.6467302320284454,
          0.1980965567784686
         ],
         "y": [
          -0.0803338061739813,
          0.08150629042346527
         ]
        },
        {
         "hoverinfo": "text",
         "hovertext": "HKSA ↔ Glass Garage: 5 people",
         "line": {
          "color": "rgba(100, 100, 100, 0.3)",
          "width": 1.5
         },
         "mode": "lines",
         "name": "person_edge_3",
         "showlegend": false,
         "type": "scatter",
         "x": [
          -0.6474828115743462,
          0.19734397723256783
         ],
         "y": [
          -0.07640524103807075,
          0.08543485555937581
         ]
        },
        {
         "hoverinfo": "text",
         "hovertext": "HKSA ↔ Glass Garage: 5 people",
         "line": {
          "color": "rgba(100, 100, 100, 0.3)",
          "width": 1.5
         },
         "mode": "lines",
         "name": "person_edge_4",
         "showlegend": false,
         "type": "scatter",
         "x": [
          -0.648235391120247,
          0.19659139768666703
         ],
         "y": [
          -0.07247667590216023,
          0.08936342069528634
         ]
        },
        {
         "hoverinfo": "text",
         "hovertext": "HKSA ↔ Data Science 27: 2 people",
         "line": {
          "color": "rgba(100, 100, 100, 0.3)",
          "width": 1.5
         },
         "mode": "lines",
         "name": "person_edge_0",
         "showlegend": false,
         "type": "scatter",
         "x": [
          -0.6422458295635523,
          -0.10950769287435545
         ],
         "y": [
          -0.08254517103145284,
          0.9977886351425285
         ]
        },
        {
         "hoverinfo": "text",
         "hovertext": "HKSA ↔ Data Science 27: 2 people",
         "line": {
          "color": "rgba(100, 100, 100, 0.3)",
          "width": 1.5
         },
         "mode": "lines",
         "name": "person_edge_1",
         "showlegend": false,
         "type": "scatter",
         "x": [
          -0.6512146344933385,
          -0.11847649780414178
         ],
         "y": [
          -0.07812244131650975,
          1.0022113648574715
         ]
        },
        {
         "hoverinfo": "text",
         "hovertext": "Glass Garage ↔ Data Science 27: 3 people",
         "line": {
          "color": "rgba(100, 100, 100, 0.3)",
          "width": 1.5
         },
         "mode": "lines",
         "name": "person_edge_0",
         "showlegend": false,
         "type": "scatter",
         "x": [
          0.20440879219867367,
          -0.10767985991904357
         ],
         "y": [
          0.08365108142595319,
          1.0021447910024879
         ]
        },
        {
         "hoverinfo": "text",
         "hovertext": "Glass Garage ↔ Data Science 27: 3 people",
         "line": {
          "color": "rgba(100, 100, 100, 0.3)",
          "width": 1.5
         },
         "mode": "lines",
         "name": "person_edge_1",
         "showlegend": false,
         "type": "scatter",
         "x": [
          0.1980965567784686,
          -0.11399209533924862
         ],
         "y": [
          0.08150629042346527,
          1
         ]
        },
        {
         "hoverinfo": "text",
         "hovertext": "Glass Garage ↔ Data Science 27: 3 people",
         "line": {
          "color": "rgba(100, 100, 100, 0.3)",
          "width": 1.5
         },
         "mode": "lines",
         "name": "person_edge_2",
         "showlegend": false,
         "type": "scatter",
         "x": [
          0.19178432135826354,
          -0.12030433075945367
         ],
         "y": [
          0.07936149942097735,
          0.9978552089975121
         ]
        },
        {
         "hoverinfo": "text",
         "hovertext": [
          "WZLY<br>191 members",
          "Whiptails<br>67 members",
          "HKSA<br>94 members",
          "Glass Garage<br>166 members",
          "Data Science 27<br>33 members"
         ],
         "marker": {
          "color": [
           "#FF6B6B",
           "#4ECDC4",
           "#45B7D1",
           "#FFA07A",
           "#98D8C8"
          ],
          "line": {
           "color": "white",
           "width": 3
          },
          "size": 40
         },
         "mode": "markers+text",
         "name": "organizations",
         "showlegend": false,
         "text": [
          "WZLY",
          "Whiptails",
          "HKSA",
          "Glass Garage",
          "Data Science 27"
         ],
         "textfont": {
          "color": "white",
          "family": "Arial Black",
          "size": 11
         },
         "textposition": "middle center",
         "type": "scatter",
         "x": [
          0.3786375059388159,
          0.18398826465040963,
          -0.6467302320284454,
          0.1980965567784686,
          -0.11399209533924862
         ],
         "y": [
          -0.12909350968406572,
          -0.8720789745654184,
          -0.0803338061739813,
          0.08150629042346527,
          1
         ]
        }
       ],
       "layout": {
        "annotations": [
         {
          "bgcolor": "rgba(255,255,255,0.8)",
          "bordercolor": "gray",
          "borderwidth": 1,
          "font": {
           "color": "gray",
           "size": 10
          },
          "showarrow": false,
          "text": "Total connections: 189 individual person-org links<br>People in multiple orgs: 164<br>Each line represents one person's membership in two organizations",
          "x": 0.02,
          "xanchor": "left",
          "xref": "paper",
          "y": 0.02,
          "yanchor": "bottom",
          "yref": "paper"
         }
        ],
        "height": 700,
        "hovermode": "closest",
        "margin": {
         "b": 20,
         "l": 5,
         "r": 5,
         "t": 100
        },
        "plot_bgcolor": "white",
        "showlegend": false,
        "template": {
         "data": {
          "bar": [
           {
            "error_x": {
             "color": "#2a3f5f"
            },
            "error_y": {
             "color": "#2a3f5f"
            },
            "marker": {
             "line": {
              "color": "#E5ECF6",
              "width": 0.5
             },
             "pattern": {
              "fillmode": "overlay",
              "size": 10,
              "solidity": 0.2
             }
            },
            "type": "bar"
           }
          ],
          "barpolar": [
           {
            "marker": {
             "line": {
              "color": "#E5ECF6",
              "width": 0.5
             },
             "pattern": {
              "fillmode": "overlay",
              "size": 10,
              "solidity": 0.2
             }
            },
            "type": "barpolar"
           }
          ],
          "carpet": [
           {
            "aaxis": {
             "endlinecolor": "#2a3f5f",
             "gridcolor": "white",
             "linecolor": "white",
             "minorgridcolor": "white",
             "startlinecolor": "#2a3f5f"
            },
            "baxis": {
             "endlinecolor": "#2a3f5f",
             "gridcolor": "white",
             "linecolor": "white",
             "minorgridcolor": "white",
             "startlinecolor": "#2a3f5f"
            },
            "type": "carpet"
           }
          ],
          "choropleth": [
           {
            "colorbar": {
             "outlinewidth": 0,
             "ticks": ""
            },
            "type": "choropleth"
           }
          ],
          "contour": [
           {
            "colorbar": {
             "outlinewidth": 0,
             "ticks": ""
            },
            "colorscale": [
             [
              0,
              "#0d0887"
             ],
             [
              0.1111111111111111,
              "#46039f"
             ],
             [
              0.2222222222222222,
              "#7201a8"
             ],
             [
              0.3333333333333333,
              "#9c179e"
             ],
             [
              0.4444444444444444,
              "#bd3786"
             ],
             [
              0.5555555555555556,
              "#d8576b"
             ],
             [
              0.6666666666666666,
              "#ed7953"
             ],
             [
              0.7777777777777778,
              "#fb9f3a"
             ],
             [
              0.8888888888888888,
              "#fdca26"
             ],
             [
              1,
              "#f0f921"
             ]
            ],
            "type": "contour"
           }
          ],
          "contourcarpet": [
           {
            "colorbar": {
             "outlinewidth": 0,
             "ticks": ""
            },
            "type": "contourcarpet"
           }
          ],
          "heatmap": [
           {
            "colorbar": {
             "outlinewidth": 0,
             "ticks": ""
            },
            "colorscale": [
             [
              0,
              "#0d0887"
             ],
             [
              0.1111111111111111,
              "#46039f"
             ],
             [
              0.2222222222222222,
              "#7201a8"
             ],
             [
              0.3333333333333333,
              "#9c179e"
             ],
             [
              0.4444444444444444,
              "#bd3786"
             ],
             [
              0.5555555555555556,
              "#d8576b"
             ],
             [
              0.6666666666666666,
              "#ed7953"
             ],
             [
              0.7777777777777778,
              "#fb9f3a"
             ],
             [
              0.8888888888888888,
              "#fdca26"
             ],
             [
              1,
              "#f0f921"
             ]
            ],
            "type": "heatmap"
           }
          ],
          "histogram": [
           {
            "marker": {
             "pattern": {
              "fillmode": "overlay",
              "size": 10,
              "solidity": 0.2
             }
            },
            "type": "histogram"
           }
          ],
          "histogram2d": [
           {
            "colorbar": {
             "outlinewidth": 0,
             "ticks": ""
            },
            "colorscale": [
             [
              0,
              "#0d0887"
             ],
             [
              0.1111111111111111,
              "#46039f"
             ],
             [
              0.2222222222222222,
              "#7201a8"
             ],
             [
              0.3333333333333333,
              "#9c179e"
             ],
             [
              0.4444444444444444,
              "#bd3786"
             ],
             [
              0.5555555555555556,
              "#d8576b"
             ],
             [
              0.6666666666666666,
              "#ed7953"
             ],
             [
              0.7777777777777778,
              "#fb9f3a"
             ],
             [
              0.8888888888888888,
              "#fdca26"
             ],
             [
              1,
              "#f0f921"
             ]
            ],
            "type": "histogram2d"
           }
          ],
          "histogram2dcontour": [
           {
            "colorbar": {
             "outlinewidth": 0,
             "ticks": ""
            },
            "colorscale": [
             [
              0,
              "#0d0887"
             ],
             [
              0.1111111111111111,
              "#46039f"
             ],
             [
              0.2222222222222222,
              "#7201a8"
             ],
             [
              0.3333333333333333,
              "#9c179e"
             ],
             [
              0.4444444444444444,
              "#bd3786"
             ],
             [
              0.5555555555555556,
              "#d8576b"
             ],
             [
              0.6666666666666666,
              "#ed7953"
             ],
             [
              0.7777777777777778,
              "#fb9f3a"
             ],
             [
              0.8888888888888888,
              "#fdca26"
             ],
             [
              1,
              "#f0f921"
             ]
            ],
            "type": "histogram2dcontour"
           }
          ],
          "mesh3d": [
           {
            "colorbar": {
             "outlinewidth": 0,
             "ticks": ""
            },
            "type": "mesh3d"
           }
          ],
          "parcoords": [
           {
            "line": {
             "colorbar": {
              "outlinewidth": 0,
              "ticks": ""
             }
            },
            "type": "parcoords"
           }
          ],
          "pie": [
           {
            "automargin": true,
            "type": "pie"
           }
          ],
          "scatter": [
           {
            "fillpattern": {
             "fillmode": "overlay",
             "size": 10,
             "solidity": 0.2
            },
            "type": "scatter"
           }
          ],
          "scatter3d": [
           {
            "line": {
             "colorbar": {
              "outlinewidth": 0,
              "ticks": ""
             }
            },
            "marker": {
             "colorbar": {
              "outlinewidth": 0,
              "ticks": ""
             }
            },
            "type": "scatter3d"
           }
          ],
          "scattercarpet": [
           {
            "marker": {
             "colorbar": {
              "outlinewidth": 0,
              "ticks": ""
             }
            },
            "type": "scattercarpet"
           }
          ],
          "scattergeo": [
           {
            "marker": {
             "colorbar": {
              "outlinewidth": 0,
              "ticks": ""
             }
            },
            "type": "scattergeo"
           }
          ],
          "scattergl": [
           {
            "marker": {
             "colorbar": {
              "outlinewidth": 0,
              "ticks": ""
             }
            },
            "type": "scattergl"
           }
          ],
          "scattermap": [
           {
            "marker": {
             "colorbar": {
              "outlinewidth": 0,
              "ticks": ""
             }
            },
            "type": "scattermap"
           }
          ],
          "scattermapbox": [
           {
            "marker": {
             "colorbar": {
              "outlinewidth": 0,
              "ticks": ""
             }
            },
            "type": "scattermapbox"
           }
          ],
          "scatterpolar": [
           {
            "marker": {
             "colorbar": {
              "outlinewidth": 0,
              "ticks": ""
             }
            },
            "type": "scatterpolar"
           }
          ],
          "scatterpolargl": [
           {
            "marker": {
             "colorbar": {
              "outlinewidth": 0,
              "ticks": ""
             }
            },
            "type": "scatterpolargl"
           }
          ],
          "scatterternary": [
           {
            "marker": {
             "colorbar": {
              "outlinewidth": 0,
              "ticks": ""
             }
            },
            "type": "scatterternary"
           }
          ],
          "surface": [
           {
            "colorbar": {
             "outlinewidth": 0,
             "ticks": ""
            },
            "colorscale": [
             [
              0,
              "#0d0887"
             ],
             [
              0.1111111111111111,
              "#46039f"
             ],
             [
              0.2222222222222222,
              "#7201a8"
             ],
             [
              0.3333333333333333,
              "#9c179e"
             ],
             [
              0.4444444444444444,
              "#bd3786"
             ],
             [
              0.5555555555555556,
              "#d8576b"
             ],
             [
              0.6666666666666666,
              "#ed7953"
             ],
             [
              0.7777777777777778,
              "#fb9f3a"
             ],
             [
              0.8888888888888888,
              "#fdca26"
             ],
             [
              1,
              "#f0f921"
             ]
            ],
            "type": "surface"
           }
          ],
          "table": [
           {
            "cells": {
             "fill": {
              "color": "#EBF0F8"
             },
             "line": {
              "color": "white"
             }
            },
            "header": {
             "fill": {
              "color": "#C8D4E3"
             },
             "line": {
              "color": "white"
             }
            },
            "type": "table"
           }
          ]
         },
         "layout": {
          "annotationdefaults": {
           "arrowcolor": "#2a3f5f",
           "arrowhead": 0,
           "arrowwidth": 1
          },
          "autotypenumbers": "strict",
          "coloraxis": {
           "colorbar": {
            "outlinewidth": 0,
            "ticks": ""
           }
          },
          "colorscale": {
           "diverging": [
            [
             0,
             "#8e0152"
            ],
            [
             0.1,
             "#c51b7d"
            ],
            [
             0.2,
             "#de77ae"
            ],
            [
             0.3,
             "#f1b6da"
            ],
            [
             0.4,
             "#fde0ef"
            ],
            [
             0.5,
             "#f7f7f7"
            ],
            [
             0.6,
             "#e6f5d0"
            ],
            [
             0.7,
             "#b8e186"
            ],
            [
             0.8,
             "#7fbc41"
            ],
            [
             0.9,
             "#4d9221"
            ],
            [
             1,
             "#276419"
            ]
           ],
           "sequential": [
            [
             0,
             "#0d0887"
            ],
            [
             0.1111111111111111,
             "#46039f"
            ],
            [
             0.2222222222222222,
             "#7201a8"
            ],
            [
             0.3333333333333333,
             "#9c179e"
            ],
            [
             0.4444444444444444,
             "#bd3786"
            ],
            [
             0.5555555555555556,
             "#d8576b"
            ],
            [
             0.6666666666666666,
             "#ed7953"
            ],
            [
             0.7777777777777778,
             "#fb9f3a"
            ],
            [
             0.8888888888888888,
             "#fdca26"
            ],
            [
             1,
             "#f0f921"
            ]
           ],
           "sequentialminus": [
            [
             0,
             "#0d0887"
            ],
            [
             0.1111111111111111,
             "#46039f"
            ],
            [
             0.2222222222222222,
             "#7201a8"
            ],
            [
             0.3333333333333333,
             "#9c179e"
            ],
            [
             0.4444444444444444,
             "#bd3786"
            ],
            [
             0.5555555555555556,
             "#d8576b"
            ],
            [
             0.6666666666666666,
             "#ed7953"
            ],
            [
             0.7777777777777778,
             "#fb9f3a"
            ],
            [
             0.8888888888888888,
             "#fdca26"
            ],
            [
             1,
             "#f0f921"
            ]
           ]
          },
          "colorway": [
           "#636efa",
           "#EF553B",
           "#00cc96",
           "#ab63fa",
           "#FFA15A",
           "#19d3f3",
           "#FF6692",
           "#B6E880",
           "#FF97FF",
           "#FECB52"
          ],
          "font": {
           "color": "#2a3f5f"
          },
          "geo": {
           "bgcolor": "white",
           "lakecolor": "white",
           "landcolor": "#E5ECF6",
           "showlakes": true,
           "showland": true,
           "subunitcolor": "white"
          },
          "hoverlabel": {
           "align": "left"
          },
          "hovermode": "closest",
          "mapbox": {
           "style": "light"
          },
          "paper_bgcolor": "white",
          "plot_bgcolor": "#E5ECF6",
          "polar": {
           "angularaxis": {
            "gridcolor": "white",
            "linecolor": "white",
            "ticks": ""
           },
           "bgcolor": "#E5ECF6",
           "radialaxis": {
            "gridcolor": "white",
            "linecolor": "white",
            "ticks": ""
           }
          },
          "scene": {
           "xaxis": {
            "backgroundcolor": "#E5ECF6",
            "gridcolor": "white",
            "gridwidth": 2,
            "linecolor": "white",
            "showbackground": true,
            "ticks": "",
            "zerolinecolor": "white"
           },
           "yaxis": {
            "backgroundcolor": "#E5ECF6",
            "gridcolor": "white",
            "gridwidth": 2,
            "linecolor": "white",
            "showbackground": true,
            "ticks": "",
            "zerolinecolor": "white"
           },
           "zaxis": {
            "backgroundcolor": "#E5ECF6",
            "gridcolor": "white",
            "gridwidth": 2,
            "linecolor": "white",
            "showbackground": true,
            "ticks": "",
            "zerolinecolor": "white"
           }
          },
          "shapedefaults": {
           "line": {
            "color": "#2a3f5f"
           }
          },
          "ternary": {
           "aaxis": {
            "gridcolor": "white",
            "linecolor": "white",
            "ticks": ""
           },
           "baxis": {
            "gridcolor": "white",
            "linecolor": "white",
            "ticks": ""
           },
           "bgcolor": "#E5ECF6",
           "caxis": {
            "gridcolor": "white",
            "linecolor": "white",
            "ticks": ""
           }
          },
          "title": {
           "x": 0.05
          },
          "xaxis": {
           "automargin": true,
           "gridcolor": "white",
           "linecolor": "white",
           "ticks": "",
           "title": {
            "standoff": 15
           },
           "zerolinecolor": "white",
           "zerolinewidth": 2
          },
          "yaxis": {
           "automargin": true,
           "gridcolor": "white",
           "linecolor": "white",
           "ticks": "",
           "title": {
            "standoff": 15
           },
           "zerolinecolor": "white",
           "zerolinewidth": 2
          }
         }
        },
        "title": {
         "font": {
          "size": 18
         },
         "text": "Campus Organization Network<br><sub>Each line represents one person's connection between organizations</sub>",
         "x": 0.5,
         "xanchor": "center"
        },
        "width": 900,
        "xaxis": {
         "showgrid": false,
         "showticklabels": false,
         "zeroline": false
        },
        "yaxis": {
         "showgrid": false,
         "showticklabels": false,
         "zeroline": false
        }
       }
      }
     },
     "metadata": {},
     "output_type": "display_data"
    },
    {
     "name": "stdout",
     "output_type": "stream",
     "text": [
      "\n",
      "Visualization complete!\n",
      "- Each line represents one person's connection between two organizations\n",
      "- Total lines drawn: 81\n",
      "- Actual person connections: 189\n"
     ]
    }
   ],
   "source": [
    "# Create NetworkX graph with individual person edges\n",
    "G = nx.Graph()\n",
    "\n",
    "# Add organization nodes\n",
    "for org_name in organizations.keys():\n",
    "    G.add_node(org_name)\n",
    "\n",
    "# Add individual edges (each representing one person's connection)\n",
    "for edge in individual_edges:\n",
    "    if G.has_edge(edge[0], edge[1]):\n",
    "        # Increment the weight (number of people connecting these orgs)\n",
    "        G[edge[0]][edge[1]]['weight'] += 1\n",
    "    else:\n",
    "        # Add new edge with weight 1\n",
    "        G.add_edge(edge[0], edge[1], weight=1)\n",
    "\n",
    "# Create layout with better spacing for clarity\n",
    "pos = nx.spring_layout(G, k=2.0, iterations=100, seed=42)\n",
    "\n",
    "# Extract node and edge information for Plotly\n",
    "node_x = []\n",
    "node_y = []\n",
    "node_text = []\n",
    "node_color = []\n",
    "\n",
    "# Organization colors\n",
    "org_colors = {\n",
    "    'WZLY': '#FF6B6B',          # Red\n",
    "    'Whiptails': '#4ECDC4',     # Teal\n",
    "    'HKSA': '#45B7D1',          # Blue\n",
    "    'Glass Garage': '#FFA07A',  # Orange\n",
    "    'Data Science 27': '#98D8C8' # Light green\n",
    "}\n",
    "\n",
    "for node in G.nodes():\n",
    "    x, y = pos[node]\n",
    "    node_x.append(x)\n",
    "    node_y.append(y)\n",
    "    size = org_sizes[node]\n",
    "    node_text.append(f\"{node}<br>{size} members\")\n",
    "    node_color.append(org_colors[node])\n",
    "\n",
    "# Create the plot\n",
    "fig = go.Figure()\n",
    "\n",
    "# Add individual edges as separate traces\n",
    "# Each edge line represents one person's connection between organizations\n",
    "for edge in G.edges():\n",
    "    x0, y0 = pos[edge[0]]\n",
    "    x1, y1 = pos[edge[1]]\n",
    "    weight = G.edges[edge]['weight']\n",
    "    \n",
    "    # Create multiple parallel lines to represent individual people\n",
    "    # Offset lines slightly to show individual connections\n",
    "    base_offset = 0.02\n",
    "    max_lines_to_show = min(weight, 50)  # Limit visual lines for readability\n",
    "    \n",
    "    for i in range(max_lines_to_show):\n",
    "        # Calculate offset for this line\n",
    "        if max_lines_to_show == 1:\n",
    "            offset = 0\n",
    "        else:\n",
    "            offset = (i - (max_lines_to_show - 1) / 2) * base_offset / max_lines_to_show\n",
    "        \n",
    "        # Calculate perpendicular direction for offset\n",
    "        dx = x1 - x0\n",
    "        dy = y1 - y0\n",
    "        length = np.sqrt(dx*dx + dy*dy)\n",
    "        if length > 0:\n",
    "            perp_x = -dy / length * offset\n",
    "            perp_y = dx / length * offset\n",
    "        else:\n",
    "            perp_x = perp_y = 0\n",
    "        \n",
    "        # Add slightly offset line\n",
    "        fig.add_trace(go.Scatter(\n",
    "            x=[x0 + perp_x, x1 + perp_x], \n",
    "            y=[y0 + perp_y, y1 + perp_y],\n",
    "            line=dict(width=1.5, color='rgba(100, 100, 100, 0.3)'),\n",
    "            hovertext=f\"{edge[0]} ↔ {edge[1]}: {weight} people\",\n",
    "            hoverinfo='text',\n",
    "            mode='lines',\n",
    "            showlegend=False,\n",
    "            name=f'person_edge_{i}'\n",
    "        ))\n",
    "\n",
    "# Add nodes with fixed size\n",
    "fig.add_trace(go.Scatter(\n",
    "    x=node_x, \n",
    "    y=node_y,\n",
    "    mode='markers+text',\n",
    "    marker=dict(\n",
    "        size=40,  # Larger fixed size\n",
    "        color=node_color,\n",
    "        line=dict(width=3, color='white')\n",
    "    ),\n",
    "    text=[org for org in G.nodes()],\n",
    "    textposition=\"middle center\",\n",
    "    textfont=dict(size=11, color='white', family='Arial Black'),\n",
    "    hovertext=node_text,\n",
    "    hoverinfo='text',\n",
    "    showlegend=False,\n",
    "    name='organizations'\n",
    "))\n",
    "\n",
    "# Update layout\n",
    "fig.update_layout(\n",
    "    title={\n",
    "        'text': \"Campus Organization Network<br><sub>Each line represents one person's connection between organizations</sub>\",\n",
    "        'x': 0.5,\n",
    "        'xanchor': 'center',\n",
    "        'font': {'size': 18}\n",
    "    },\n",
    "    showlegend=False,\n",
    "    hovermode='closest',\n",
    "    margin=dict(b=20, l=5, r=5, t=100),\n",
    "    annotations=[\n",
    "        dict(\n",
    "            text=f\"Total connections: {len(individual_edges)} individual person-org links<br>\" +\n",
    "                 f\"People in multiple orgs: {len(multi_org_people)}<br>\" +\n",
    "                 \"Each line represents one person's membership in two organizations\",\n",
    "            showarrow=False,\n",
    "            xref=\"paper\", yref=\"paper\",\n",
    "            x=0.02, y=0.02,\n",
    "            xanchor='left', yanchor='bottom',\n",
    "            font=dict(color='gray', size=10),\n",
    "            bgcolor='rgba(255,255,255,0.8)',\n",
    "            bordercolor='gray',\n",
    "            borderwidth=1\n",
    "        )\n",
    "    ],\n",
    "    xaxis=dict(showgrid=False, zeroline=False, showticklabels=False),\n",
    "    yaxis=dict(showgrid=False, zeroline=False, showticklabels=False),\n",
    "    plot_bgcolor='white',\n",
    "    width=900,\n",
    "    height=700\n",
    ")\n",
    "\n",
    "# Display the interactive plot\n",
    "fig.show()\n",
    "\n",
    "# Also create a version for export\n",
    "fig.write_html(\"organization_network.html\")\n",
    "\n",
    "print(f\"\\nVisualization complete!\")\n",
    "print(f\"- Each line represents one person's connection between two organizations\")\n",
    "print(f\"- Total lines drawn: {sum(min(G.edges[edge]['weight'], 50) for edge in G.edges())}\")\n",
    "print(f\"- Actual person connections: {len(individual_edges)}\")"
   ]
  },
  {
   "cell_type": "code",
   "execution_count": 15,
   "id": "aa49ac29",
   "metadata": {},
   "outputs": [
    {
     "name": "stdout",
     "output_type": "stream",
     "text": [
      "DETAILED BREAKDOWN:\n",
      "==================================================\n",
      "\n",
      "Organization Membership Summary:\n",
      "  WZLY: 191 members\n",
      "  Whiptails: 67 members\n",
      "  HKSA: 94 members\n",
      "  Glass Garage: 166 members\n",
      "  Data Science 27: 33 members\n",
      "\n",
      "People in Multiple Organizations:\n",
      "  153 people in 2 organizations\n",
      "  10 people in 3 organizations\n",
      "  1 people in 4 organizations\n",
      "\n",
      "Organization Pair Connections (each line = one person):\n",
      "  Glass Garage ↔ WZLY: 158 people\n",
      "  WZLY ↔ Whiptails: 6 people\n",
      "  Glass Garage ↔ Whiptails: 5 people\n",
      "  HKSA ↔ WZLY: 5 people\n",
      "  Glass Garage ↔ HKSA: 5 people\n",
      "  Data Science 27 ↔ Glass Garage: 3 people\n",
      "  Data Science 27 ↔ WZLY: 2 people\n",
      "  HKSA ↔ Whiptails: 2 people\n",
      "  Data Science 27 ↔ HKSA: 2 people\n",
      "  Data Science 27 ↔ Whiptails: 1 people\n",
      "\n",
      "Interactive visualization saved as: organization_network.html\n",
      "Total individual connection lines: 189\n",
      "\n",
      "Example people with multiple memberships:\n",
      "  • Aileen Du: WZLY ↔ Glass Garage\n",
      "    → Creates edge: WZLY ↔ Glass Garage\n",
      "  • Aileen Liang: WZLY ↔ Glass Garage\n",
      "    → Creates edge: WZLY ↔ Glass Garage\n",
      "  • Ali Kyrouz: WZLY ↔ Glass Garage\n",
      "    → Creates edge: WZLY ↔ Glass Garage\n",
      "  • Amara Jafar: WZLY ↔ Glass Garage\n",
      "    → Creates edge: WZLY ↔ Glass Garage\n",
      "  • Amelia Karr: WZLY ↔ Glass Garage\n",
      "    → Creates edge: WZLY ↔ Glass Garage\n",
      "\n",
      "✓ Network visualization complete!\n",
      "✓ Each line in the graph represents one person's connection between organizations\n",
      "✓ Hover over edges to see how many people connect each pair of organizations\n"
     ]
    }
   ],
   "source": [
    "# Show detailed breakdown of connections\n",
    "print(\"DETAILED BREAKDOWN:\")\n",
    "print(\"=\" * 50)\n",
    "\n",
    "print(f\"\\nOrganization Membership Summary:\")\n",
    "for org, members in organizations.items():\n",
    "    print(f\"  {org}: {len(members)} members\")\n",
    "\n",
    "print(f\"\\nPeople in Multiple Organizations:\")\n",
    "multi_org_breakdown = {}\n",
    "for person, orgs in multi_org_people.items():\n",
    "    num_orgs = len(orgs)\n",
    "    if num_orgs not in multi_org_breakdown:\n",
    "        multi_org_breakdown[num_orgs] = 0\n",
    "    multi_org_breakdown[num_orgs] += 1\n",
    "\n",
    "for num_orgs in sorted(multi_org_breakdown.keys()):\n",
    "    count = multi_org_breakdown[num_orgs]\n",
    "    print(f\"  {count} people in {num_orgs} organizations\")\n",
    "\n",
    "print(f\"\\nOrganization Pair Connections (each line = one person):\")\n",
    "for edge, count in sorted(edge_counts.items(), key=lambda x: x[1], reverse=True):\n",
    "    print(f\"  {edge[0]} ↔ {edge[1]}: {count} people\")\n",
    "\n",
    "print(f\"\\nInteractive visualization saved as: organization_network.html\")\n",
    "print(f\"Total individual connection lines: {len(individual_edges)}\")\n",
    "\n",
    "# Show some specific examples of people in multiple orgs\n",
    "print(f\"\\nExample people with multiple memberships:\")\n",
    "examples = list(multi_org_people.items())[:5]\n",
    "for person, orgs in examples:\n",
    "    print(f\"  • {person}: {' ↔ '.join(orgs)}\")\n",
    "    for org1, org2 in combinations(orgs, 2):\n",
    "        print(f\"    → Creates edge: {org1} ↔ {org2}\")\n",
    "\n",
    "print(f\"\\n✓ Network visualization complete!\")\n",
    "print(f\"✓ Each line in the graph represents one person's connection between organizations\")\n",
    "print(f\"✓ Hover over edges to see how many people connect each pair of organizations\")"
   ]
  }
 ],
 "metadata": {
  "kernelspec": {
   "display_name": "Python 3",
   "language": "python",
   "name": "python3"
  },
  "language_info": {
   "codemirror_mode": {
    "name": "ipython",
    "version": 3
   },
   "file_extension": ".py",
   "mimetype": "text/x-python",
   "name": "python",
   "nbconvert_exporter": "python",
   "pygments_lexer": "ipython3",
   "version": "3.11.9"
  }
 },
 "nbformat": 4,
 "nbformat_minor": 5
}
